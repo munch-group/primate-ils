{
 "cells": [
  {
   "cell_type": "markdown",
   "metadata": {},
   "source": [
    "# Horizon plots of ILS proportions"
   ]
  },
  {
   "cell_type": "code",
   "execution_count": null,
   "metadata": {},
   "outputs": [],
   "source": [
    "%matplotlib inline\n",
    "\n",
    "%env http_proxy=http://proxy-default:3128\n",
    "%env https_proxy=http://proxy-default:3128\n",
    "\n",
    "import numpy as np\n",
    "import pandas as pd\n",
    "from pandas import DataFrame, Series\n",
    "import warnings\n",
    "from scipy import signal, stats\n",
    "from statsmodels.nonparametric.smoothers_lowess import lowess\n",
    "\n",
    "from matplotlib_inline.backend_inline import set_matplotlib_formats\n",
    "set_matplotlib_formats('retina', 'png')\n",
    "\n",
    "import sklearn\n",
    "from sklearn.preprocessing import quantile_transform\n",
    "\n",
    "import matplotlib\n",
    "import matplotlib.pyplot as plt\n",
    "from matplotlib.colors import ListedColormap\n",
    "from matplotlib.patches import Rectangle, Patch\n",
    "from matplotlib.lines import Line2D\n",
    "\n",
    "\n",
    "import mpld3\n",
    "\n",
    "from horizonplot import horizonplot\n",
    "from chromwindow import window\n",
    "\n",
    "import seaborn as sns\n",
    "sns.set()\n",
    "sns.set_style(\"ticks\")\n",
    "sns.set_context(\"notebook\")\n",
    "\n",
    "# scale down size of default plots\n",
    "import matplotlib as mpl\n",
    "scale = 1\n",
    "d = dict([(k, v*scale) for (k, v) in sns.plotting_context('paper').items()])\n",
    "d['figure.figsize'] = [5.4, 3.5]\n",
    "mpl.rcParams.update(d)\n",
    "\n",
    "def add_band(x_low, x_high, y_low=None, y_high=None, ax=None, color='gray', linewidth=0, alpha=0.5, zorder=0, **kwargs):\n",
    "    \"Plot a gray block on x interval\"\n",
    "    if ax is None:\n",
    "        ax = plt.gca()\n",
    "    if y_low is None:\n",
    "        y_low, _ = ax.get_ylim()\n",
    "    if y_high is None:\n",
    "        _, y_high = ax.get_ylim()\n",
    "    g = ax.add_patch(Rectangle((x_low, y_low), x_high-x_low, y_high-y_low, \n",
    "                 facecolor=color,\n",
    "                 linewidth=linewidth,\n",
    "                 alpha=alpha,\n",
    "                 zorder=zorder,\n",
    "                 **kwargs))\n",
    "\n",
    "def stairs(df, start='start', end='end', pos='pos', endtrim=0):\n",
    "    \"Turn a df with start, end into one with pos to plot as stairs\"\n",
    "    df1 = df.copy(deep=True)\n",
    "    df2 = df.copy(deep=True)\n",
    "    df1[pos] = df1[start]\n",
    "    df2[pos] = df2[end] - endtrim\n",
    "    return pd.concat([df1, df2]).sort_values([start, end])\n",
    "\n",
    "# My own paired palette replacing the last brown pair with violets\n",
    "sns.color_palette('Paired').as_hex()\n",
    "Paired = sns.color_palette(['#a6cee3', '#1f78b4', '#b2df8a', '#33a02c', '#fb9a99', '#e31a1c',\n",
    "                            '#fdbf6f', '#ff7f00', '#cab2d6','#6a3d9a', '#e585cf', '#ad009d'])\n",
    "#sns.palplot(Paired)\n",
    "Infographics = sns.color_palette(['#e8615d', '#f49436', '#2d9de5', '#3bbdbd', '#634792'])\n",
    "#sns.palplot(Infographics)\n",
    "\n",
    "chromosomes = list(map(str, range(1,23))) + ['X']"
   ]
  },
  {
   "cell_type": "markdown",
   "metadata": {},
   "source": [
    "## Load ILS data"
   ]
  },
  {
   "cell_type": "code",
   "execution_count": null,
   "metadata": {},
   "outputs": [],
   "source": [
    "ils_data = pd.read_hdf('../steps/merge_ils_data/merged_ils_data.h5')\n",
    "ils_data['chrom'] = ils_data['chrom'].astype(str)\n",
    "\n",
    "ils_data['tot_segment'] = ils_data[['V0', 'V1', 'V2', 'V3']].sum(axis=1)\n",
    "ils_data['propils'] = ils_data[['V2', 'V3']].sum(axis=1) / ils_data.tot_segment\n",
    "ils_data['ilsskew'] = (ils_data.V2 - ils_data.V3) / (ils_data.V2 + ils_data.V3)\n",
    "\n",
    "# mask windwos with too few analysed bases\n",
    "# mask = ils_data.tot_segment < 30000\n",
    "mask = ils_data.tot_segment < 10000\n",
    "ils_data.loc[mask, 'propils'] = np.nan\n",
    "ils_data.loc[mask, 'ilsskew'] = np.nan\n",
    "\n",
    "# def zscore(sr):\n",
    "#     return (sr - sr.mean()) / sr.std()\n",
    "\n",
    "# gr = ils_data.groupby(['chrom', 'analysis'])\n",
    "# ils_data['propils_z_score'] = gr.propils.transform(zscore)\n",
    "# ils_data['ilsskew_z_score'] = gr.ilsskew.transform(zscore)\n",
    "\n",
    "ils_data.head()"
   ]
  },
  {
   "cell_type": "markdown",
   "metadata": {},
   "source": [
    "## Transformations"
   ]
  },
  {
   "cell_type": "code",
   "execution_count": null,
   "metadata": {},
   "outputs": [],
   "source": [
    "rng = np.random.default_rng()\n",
    "ils = rng.exponential(scale=1, size=1500)\n",
    "\n",
    "def z_transform(x):\n",
    "    return (x - x.mean()) / x.std()\n",
    "\n",
    "def z_mode_transform(x, nrbins=20):\n",
    "    if type(x) is pd.core.series.Series:\n",
    "        x = x.to_numpy()\n",
    "    y = np.squeeze(x)    \n",
    "    vals, bins = np.histogram(y[~np.isnan(y)], bins=nrbins)\n",
    "    idx = np.argmax(vals)\n",
    "    mode = bins[idx] + (bins[idx+1] - bins[idx]) / 2\n",
    "    return (y - mode) / np.nanstd(y)\n",
    "\n",
    "def log_z_transform(x):\n",
    "    if type(x) is pd.core.series.Series:\n",
    "        x = x.to_numpy()\n",
    "    x = np.squeeze(x)    \n",
    "    x = x + np.nanmin(x[np.nonzero(x)]) / 2\n",
    "    y = np.log(x)\n",
    "    return (y - np.nanmean(y)) / np.nanstd(y)\n",
    "\n",
    "def log_z_mode_transform(x, nrbins=20):\n",
    "    if type(x) is pd.core.series.Series:\n",
    "        x = x.to_numpy()\n",
    "    x = np.squeeze(x)    \n",
    "    x = x + np.nanmin(x[np.nonzero(x)]) / 2\n",
    "    y = np.log(x)\n",
    "    vals, bins = np.histogram(y[~np.isnan(y)], bins=nrbins)\n",
    "    idx = np.argmax(vals)\n",
    "    mode = bins[idx] + (bins[idx+1] - bins[idx]) / 2\n",
    "    return (y - mode) / np.nanstd(y)\n",
    "\n",
    "def quantile_norm(x):\n",
    "    if type(x) is pd.core.series.Series:\n",
    "        x = x.to_numpy()\n",
    "    x = np.squeeze(x)\n",
    "    rng = np.random.default_rng()\n",
    "    trans = quantile_transform(np.reshape(x, (x.shape[0], 1)), n_quantiles=len(x), \n",
    "                                random_state=0, copy=True, output_distribution='normal')\n",
    "    return np.squeeze(trans)\n",
    "\n",
    "fig, ax = plt.subplots(1, 6, figsize=(10, 2))\n",
    "nrbins=30\n",
    "ax[0].hist(ils, bins=nrbins);\n",
    "ax[1].hist(z_transform(ils), bins=nrbins, color='C1');\n",
    "ax[2].hist(z_mode_transform(ils), bins=nrbins, color='C1');\n",
    "ax[3].hist(log_z_transform(ils), bins=nrbins, color='C1');\n",
    "ax[4].hist(log_z_mode_transform(ils), bins=nrbins, color='C1');\n",
    "ax[5].hist(quantile_norm(ils), bins=nrbins, color='C1');\n",
    "plt.tight_layout()\n",
    "sns.despine()"
   ]
  },
  {
   "cell_type": "markdown",
   "metadata": {},
   "source": [
    "Transforms for ILS proportion:"
   ]
  },
  {
   "cell_type": "code",
   "execution_count": null,
   "metadata": {},
   "outputs": [],
   "source": [
    "grouped = ils_data.groupby(['chrom', 'analysis'])['propils']\n",
    "ils_data['propils_qnorm'] = grouped.transform(quantile_norm)\n",
    "ils_data['propils_znorm'] = grouped.transform(z_transform)\n",
    "ils_data['propils_logznorm'] = grouped.transform(log_z_transform)\n",
    "ils_data['propils_logzmodenorm'] = grouped.transform(log_z_mode_transform)"
   ]
  },
  {
   "cell_type": "markdown",
   "metadata": {},
   "source": [
    "Transforms for ILS skew:"
   ]
  },
  {
   "cell_type": "code",
   "execution_count": null,
   "metadata": {},
   "outputs": [],
   "source": [
    "grouped = ils_data.groupby(['chrom', 'analysis'])['ilsskew']\n",
    "ils_data['ilsskew_qnorm'] = grouped.transform(quantile_norm)\n",
    "ils_data['ilsskew_znorm'] = grouped.transform(z_transform)\n",
    "ils_data['ilsskew_zmodenorm'] = grouped.transform(z_mode_transform)"
   ]
  },
  {
   "cell_type": "code",
   "execution_count": null,
   "metadata": {},
   "outputs": [],
   "source": [
    "variables = ['propils', 'propils_qnorm']\n",
    "\n",
    "plot_df = ils_data.loc[ils_data.chrom == 'X', ['analysis']+variables]#.head(10000)\n",
    "g = sns.FacetGrid(data=plot_df, col='analysis', height=2, aspect=2, col_wrap=4, sharey=False, sharex=False)\n",
    "\n",
    "def plot(x1, x2, data=None, color=None, label=None):\n",
    "    sns.histplot(data, x=x1, label=x1)\n",
    "    sns.histplot(data, x=x2, color='C1', label=x2, ax=plt.gca().twiny())\n",
    "    \n",
    "g.map_dataframe(plot, *variables)\n",
    "g.set_titles(\"{col_name}\")\n",
    "\n",
    "# g.add_legend(legend_data=dict(zip(g._legend_data.keys(), g._legend_data.values())))\n",
    "# g.add_legend(legend_data=dict(zip(['proportion of ils'], g._legend_data.values())))\n",
    "g.add_legend(legend_data=dict(zip(variables, [Patch(color='C0'), Patch(color='C1')])))"
   ]
  },
  {
   "cell_type": "markdown",
   "metadata": {},
   "source": [
    "## Add species names"
   ]
  },
  {
   "cell_type": "markdown",
   "metadata": {},
   "source": [
    "Add species names from mapping between analysis labels and names of included species:"
   ]
  },
  {
   "cell_type": "code",
   "execution_count": null,
   "metadata": {},
   "outputs": [],
   "source": [
    "name_mapping = pd.read_csv('/home/kmt/Primategenomes/data/mapping_names.csv', header=0, names=['names', 'analysis'])\n",
    "ils_data = ils_data.merge(name_mapping, on='analysis')\n",
    "ils_data.head()"
   ]
  },
  {
   "cell_type": "markdown",
   "metadata": {},
   "source": [
    "Write to HDF for use in other notebooks:"
   ]
  },
  {
   "cell_type": "code",
   "execution_count": null,
   "metadata": {},
   "outputs": [],
   "source": [
    "ils_data.to_hdf('../results/ils_data.h5', 'df', format='table', mode='w')"
   ]
  },
  {
   "cell_type": "markdown",
   "metadata": {},
   "source": [
    "## Global ILS proportion in each species"
   ]
  },
  {
   "cell_type": "code",
   "execution_count": null,
   "metadata": {},
   "outputs": [],
   "source": [
    "global_mean_ils = ils_data.groupby(['analysis', 'names']).propils.mean().sort_values().to_frame().reset_index()\n",
    "\n",
    "fig, ax = plt.subplots(1, 1, figsize=(6, 6))\n",
    "sns.barplot(x='propils', y='names', data=global_mean_ils, color='b', ax=ax)\n",
    "sns.despine()"
   ]
  },
  {
   "cell_type": "markdown",
   "metadata": {},
   "source": [
    "## Global ILS skew in each species"
   ]
  },
  {
   "cell_type": "code",
   "execution_count": null,
   "metadata": {},
   "outputs": [],
   "source": [
    "global_mean_skew = ils_data.groupby(['analysis', 'names']).ilsskew.mean().sort_values().to_frame().reset_index()\n",
    "\n",
    "fig, ax = plt.subplots(1, 1, figsize=(6, 6))\n",
    "sns.barplot(x='ilsskew', y='names', data=global_mean_skew, color='b', ax=ax)\n",
    "sns.despine()"
   ]
  },
  {
   "cell_type": "code",
   "execution_count": null,
   "metadata": {},
   "outputs": [],
   "source": []
  }
 ],
 "metadata": {
  "kernelspec": {
   "display_name": "Python 3 (ipykernel)",
   "language": "python",
   "name": "python3"
  },
  "language_info": {
   "codemirror_mode": {
    "name": "ipython",
    "version": 3
   },
   "file_extension": ".py",
   "mimetype": "text/x-python",
   "name": "python",
   "nbconvert_exporter": "python",
   "pygments_lexer": "ipython3",
   "version": "3.8.16"
  }
 },
 "nbformat": 4,
 "nbformat_minor": 4
}
