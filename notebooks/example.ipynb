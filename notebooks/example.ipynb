{
 "cells": [
  {
   "cell_type": "markdown",
   "metadata": {},
   "source": [
    "# Workplace interaction"
   ]
  },
  {
   "cell_type": "markdown",
   "metadata": {},
   "source": [
    "Import some plotting libraries and set some defaults:"
   ]
  },
  {
   "cell_type": "code",
   "execution_count": null,
   "metadata": {},
   "outputs": [],
   "source": [
    "import sys\n",
    "import numpy as np\n",
    "import pandas as pd\n",
    "from IPython.display import display, Markdown\n",
    "import matplotlib.pyplot as plt\n",
    "import seaborn as sns\n",
    "sns.set()\n",
    "\n",
    "sns.set_context(context='paper', font_scale=0.8, rc=None)\n",
    "# sns.set_context(context='notebook', font_scale=1, rc=None)\n",
    "\n",
    "sns.set_style(\"ticks\", {\"axes.spines.top\": False, \n",
    "                        \"axes.spines.right\": False,\n",
    "                       \"legend.edgecolor\": 'white'})\n",
    "import random\n",
    "random_seed = 5\n",
    "\n",
    "sys.path.append('..')\n",
    "from global_params import load_params"
   ]
  },
  {
   "cell_type": "code",
   "execution_count": null,
   "metadata": {},
   "outputs": [],
   "source": [
    "%%html\n",
    "<style> table { font-variant-numeric: tabular-nums; } </style>"
   ]
  },
  {
   "cell_type": "markdown",
   "metadata": {},
   "source": [
    "> **Tip:**  \n",
    "> Producing figures in svg format (scalable vector graphics) makes for sharp plots on webpages. However, if you make plots with thousands of observations you should set this to `'png'` instead:"
   ]
  },
  {
   "cell_type": "code",
   "execution_count": null,
   "metadata": {},
   "outputs": [],
   "source": [
    "%config InlineBackend.figure_formats = ['retina'] "
   ]
  },
  {
   "cell_type": "markdown",
   "metadata": {},
   "source": [
    "> **Tip:**  \n",
    "> Some values apply globally to your analysis. E.g., sample sizes, cutoffs, names, rates, etc. Keeping those in a a yml file like `interaction_params.yml` and loading them in each notebook avoids the risk of manually adding/updating them in each notebook where they are used. You can use the `load_globals` function imported above from `global_params.py` to produce an object holding all the global values:"
   ]
  },
  {
   "cell_type": "code",
   "execution_count": null,
   "metadata": {},
   "outputs": [],
   "source": [
    "params = load_params('../global_params.yml')\n",
    "params"
   ]
  },
  {
   "cell_type": "code",
   "execution_count": null,
   "metadata": {},
   "outputs": [],
   "source": [
    "params.sample_size"
   ]
  },
  {
   "cell_type": "markdown",
   "metadata": {},
   "source": [
    "## Sampling"
   ]
  },
  {
   "cell_type": "code",
   "execution_count": null,
   "metadata": {},
   "outputs": [],
   "source": [
    "subjects = pd.read_csv('../data/data_table.csv')\n",
    "assert subjects.index.size == params.sample_size\n",
    "subjects"
   ]
  },
  {
   "cell_type": "markdown",
   "metadata": {},
   "source": [
    "> **Tip:**  \n",
    "> By adding a label and caption to a cell displaying a table, you can refer to that table elsewhere and insert it in a manuscript."
   ]
  },
  {
   "cell_type": "markdown",
   "metadata": {},
   "source": []
  },
  {
   "cell_type": "code",
   "execution_count": null,
   "metadata": {},
   "outputs": [],
   "source": [
    "#| label: tbl-subjects\n",
    "#| tbl-cap: \"People included in the analysis.\"\n",
    "\n",
    "# with pd.option_context('display.max_rows', None,): # prints *all* rows\n",
    "#     display(subjects.style.hide()) # .style.hide() hides the index)\n",
    "subjects.style.hide()"
   ]
  },
  {
   "cell_type": "markdown",
   "metadata": {},
   "source": [
    "> **Tip:**  \n",
    "> By generaing markdown for descriptions that will eventually end up in the manuscript, you can imbed python values. It also ensures that the manuscript exactly reflects the notebook."
   ]
  },
  {
   "cell_type": "code",
   "execution_count": null,
   "metadata": {},
   "outputs": [],
   "source": [
    "#| echo: false\n",
    "#| label: doc-sampling\n",
    "\n",
    "Markdown(f\"\"\"\n",
    "\n",
    "The {params.sample_size} subjects from workplaces in Denmark were interviewed .... blah blah \n",
    "blah blah blah blah blah blah blah blah blah blah blah blah blah blah blah blah blah \n",
    "blah blah blah blah blah blah blah blah blah blah blah blah blah blah blah blah blah \n",
    "\"\"\")"
   ]
  },
  {
   "cell_type": "markdown",
   "metadata": {},
   "source": [
    "## Interviews"
   ]
  },
  {
   "cell_type": "markdown",
   "metadata": {},
   "source": [
    "In interviewed `{python} params.sample_size` workplace individuals were interviewed by .... blah, blah, blah, blah, blah, blah, blah, blah, blah, blah, blah, blah, blah, blah, \n",
    "blah, blah, blah, blah, blah, blah, blah, blah, blah, blah, blah, blah, blah, blah, "
   ]
  },
  {
   "cell_type": "code",
   "execution_count": null,
   "metadata": {},
   "outputs": [],
   "source": [
    "# generate some random sample data\n",
    "scores = pd.DataFrame({\n",
    "    'name': subjects.name, \n",
    "    'informality': np.random.normal(loc=10, scale=1, size=params.sample_size)\n",
    "})\n",
    "data = pd.merge(subjects, scores, on='name')\n",
    "data\n"
   ]
  },
  {
   "cell_type": "code",
   "execution_count": null,
   "metadata": {},
   "outputs": [],
   "source": [
    "#| label: fig-danishinteraction\n",
    "#| fig-cap: \"Figure legends are defined alongside the figure in the notebook. The figure size in the notebook is determines its size when embedded in a document 4x3 inches.\"\n",
    "\n",
    "plt.figure(figsize=(4,3))\n",
    "sns.scatterplot(x='age', y='informality', data=data, hue='position', palette='viridis')\n",
    "plt.ylabel('How informal you can be')\n",
    "plt.xlabel('Age')\n",
    "plt.legend(title='Seniority', loc='lower right')\n",
    "plt.ylim(bottom=0) ;"
   ]
  },
  {
   "cell_type": "markdown",
   "metadata": {},
   "source": [
    "or plotted differently:"
   ]
  },
  {
   "cell_type": "code",
   "execution_count": null,
   "metadata": {},
   "outputs": [],
   "source": [
    "#| label: fig-danishinteractionfacets\n",
    "#| fig-cap: \"Figure legends are defined alongside the figure in the notebook. The figure size in the notebook is determines its size when embedded in a document 4x3 inches.\"\n",
    "#| column: page\n",
    "\n",
    "#plt.figure(figsize=(4,3))\n",
    "g = sns.FacetGrid(data=data, col=\"nationality\",hue=\"position\", palette='viridis', aspect=0.9)\n",
    "g.map(sns.scatterplot, 'age', 'informality')\n",
    "#sns.scatterplot(x='age', y='informality', data=data, hue='position', palette='viridis')\n",
    "plt.ylabel('How informal you can be')\n",
    "plt.xlabel('Age')\n",
    "plt.legend(title='Seniority', loc='lower right') ;"
   ]
  },
  {
   "cell_type": "markdown",
   "metadata": {},
   "source": [
    "Seems Danish people act very informally unaffected by age and seniority."
   ]
  },
  {
   "cell_type": "code",
   "execution_count": null,
   "metadata": {},
   "outputs": [],
   "source": [
    "informality_age_cor = data.informality.corr(data.age)\n",
    "informality_age_cor"
   ]
  },
  {
   "cell_type": "code",
   "execution_count": null,
   "metadata": {},
   "outputs": [],
   "source": [
    "mean_informality = data.groupby(['position', 'nationality']).informality.mean().to_frame().reset_index()\n",
    "mean_informality = mean_informality.sort_values('informality')#.style.hide() # hide index"
   ]
  },
  {
   "cell_type": "markdown",
   "metadata": {},
   "source": [
    "To show the `mean_informality` table, in a way that allow you to cite and embed it elsewhere, you need to provide a label, and preferably a caption, for it, as shown below. For this use, you also need to use the display function:"
   ]
  },
  {
   "cell_type": "code",
   "execution_count": null,
   "metadata": {},
   "outputs": [],
   "source": [
    "#| label: tbl-mean-informality\n",
    "#| tbl-cap: \"Mean interaction scores by position and nationality.\"\n",
    "\n",
    "display(mean_informality)"
   ]
  },
  {
   "cell_type": "markdown",
   "metadata": {},
   "source": [
    "> **Tip:**\n",
    "> To render a nice table without the index column, you can do this to the `display` function instead:\n",
    "> `Markdown(df.to_markdown(index=False))`\n"
   ]
  },
  {
   "cell_type": "markdown",
   "metadata": {},
   "source": [
    "> The table above shows the mean informality scores by"
   ]
  },
  {
   "cell_type": "code",
   "execution_count": null,
   "metadata": {},
   "outputs": [],
   "source": [
    "#| echo: false\n",
    "#| label: fig-meaninformality\n",
    "#| fig-cap: \"Figure legends are defined alongside the figure in the notebook. The figure size in the notebook is determines its size when embedded in a document 4x3 inches.\"\n",
    "\n",
    "plt.figure(figsize=(4,3))\n",
    "g = sns.pointplot(data=data, x='position', y='informality', hue='nationality')\n",
    "sns.move_legend(g, loc=\"upper left\", bbox_to_anchor=(1, 1), frameon=False)"
   ]
  },
  {
   "cell_type": "code",
   "execution_count": null,
   "metadata": {},
   "outputs": [],
   "source": [
    "#| echo: false\n",
    "#| label: doc-formality-correlation\n",
    "\n",
    "Markdown(f\"\"\"\n",
    "         \n",
    "The correlation between informality and age was {round(informality_age_cor, 3)}.\n",
    "\n",
    "\"\"\")"
   ]
  },
  {
   "cell_type": "code",
   "execution_count": null,
   "metadata": {},
   "outputs": [],
   "source": [
    "#| label: fig-danish-interaction-regressions\n",
    "#| fig-cap: \"Figure legends are defined alongside the figure in the notebook. The figure size in the notebook is determines its size when embedded in a document 4x3 inches.\"\n",
    "\n",
    "sns.lmplot(x='age', y='informality', data=data, hue='position', palette='viridis', height=3, aspect=4/3)\n",
    "plt.ylabel('How informal you can be')\n",
    "plt.xlabel('Age') ;"
   ]
  },
  {
   "cell_type": "code",
   "execution_count": null,
   "metadata": {},
   "outputs": [],
   "source": []
  },
  {
   "cell_type": "code",
   "execution_count": null,
   "metadata": {},
   "outputs": [],
   "source": []
  },
  {
   "cell_type": "code",
   "execution_count": null,
   "metadata": {},
   "outputs": [],
   "source": []
  }
 ],
 "metadata": {
  "kernelspec": {
   "display_name": "condabuild",
   "language": "python",
   "name": "python3"
  },
  "language_info": {
   "codemirror_mode": {
    "name": "ipython",
    "version": 3
   },
   "file_extension": ".py",
   "mimetype": "text/x-python",
   "name": "python",
   "nbconvert_exporter": "python",
   "pygments_lexer": "ipython3",
   "version": "3.12.2"
  },
  "widgets": {
   "application/vnd.jupyter.widget-state+json": {
    "state": {},
    "version_major": 2,
    "version_minor": 0
   }
  }
 },
 "nbformat": 4,
 "nbformat_minor": 4
}
